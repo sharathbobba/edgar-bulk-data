{
 "cells": [
  {
   "cell_type": "code",
   "execution_count": null,
   "metadata": {},
   "outputs": [],
   "source": [
    "import numpy as np\n",
    "import pandas as pd\n",
    "import os as diros\n"
   ]
  },
  {
   "cell_type": "code",
   "execution_count": null,
   "metadata": {},
   "outputs": [],
   "source": [
    "df_10K = pd.DataFrame()\n",
    "df_10Q = pd.DataFrame()\n",
    "df_20F = pd.DataFrame()\n",
    "\n",
    "var_10K = \"10-K\"\n",
    "var_10Q = \"10-Q\"\n",
    "var_20F = \"20-F\"\n",
    "var_40F = \"40-F\"\n",
    "var_CF = \"CF\"\n",
    "var_BS = \"BS\"\n",
    "var_IS = \"IS\"\n",
    "ls_fs = [\"10-K\",\"10-Q\",\"20-F\",\"40-F\"]\n",
    "\n",
    "folder_source = \"folder for the unzipped quarterly files\"\n",
    "folder_destin = \"fodler for the combined files with the relevant filings\""
   ]
  },
  {
   "cell_type": "code",
   "execution_count": null,
   "metadata": {},
   "outputs": [],
   "source": [
    "qrt_folders = diros.listdir((folder_source))\n",
    "qrt_folders.sort()"
   ]
  },
  {
   "cell_type": "code",
   "execution_count": null,
   "metadata": {},
   "outputs": [],
   "source": []
  },
  {
   "cell_type": "code",
   "execution_count": null,
   "metadata": {},
   "outputs": [],
   "source": [
    "df_col_types = {\"sic\":str,\"cik\":str,\"fy\":str}\n",
    "df_KQF = pd.DataFrame()\n",
    "\n",
    "folder_counter = 0\n",
    "while folder_counter < len(qrt_folders):\n",
    "    \n",
    "    folder_edgar_quarterly = folder_source+\"/\"+qrt_folders[folder_counter]+\"/\"\n",
    "    \n",
    "# Sub has the list of companies that have filed in the quarter  \n",
    "# 10Q\n",
    "    df_sub = pd.read_csv((folder_edgar_quarterly+\"sub.txt\"),sep=\"\\t\",dtype=df_col_types)\n",
    "    df_sub_fs = df_sub[(df_sub[\"form\"].isin([ls_fs]))][[\"adsh\",\"cik\",\"name\",\"sic\",\"countryba\",\"form\",\"period\",\"fy\",\"fp\"]]\n",
    "\n",
    "    # Pre has the Presentation Materials, linking the statement with the accounts\n",
    "# use pre to identify the statement (BS/IS/CF/etc)    \n",
    "    df_pre = pd.read_csv((folder_edgar_quarterly+\"pre.txt\"),sep=\"\\t\",encoding=\"windows-1254\",dtype=df_col_types)\n",
    "    df_pre_3FS = df_pre[(df_pre[\"stmt\"] == var_CF) | (df_pre[\"stmt\"] == var_BS) | (df_pre[\"stmt\"] == var_IS)]\n",
    "    df_pre_3FS = df_pre_3FS[[\"adsh\",\"line\",\"stmt\",\"tag\",\"version\",\"plabel\",\"negating\"]]\n",
    "       \n",
    "# Sub has the financial elements but not the numbers\n",
    "    df_subpre = pd.merge(df_sub_fs,df_pre_3FS,on=\"adsh\",how=\"left\")\n",
    "    df_subpre.sort_values(by=[\"name\",\"fy\",\"stmt\",\"period\",\"line\"],inplace=True)\n",
    "    df_subpre.rename(columns={\"period\":\"ddate\"},inplace=True)\n",
    "    df_subpre[\"date_period\"] = pd.to_datetime(df_subpre[\"ddate\"],format='%Y%m%d')\n",
    "\n",
    "# Num has the values, identify the relevant statements and pick up the values from num \n",
    "    df_num = pd.read_csv((folder_edgar_quarterly+\"num.txt\"),sep=\"\\t\",encoding=\"windows-1254\",dtype=df_col_types)\n",
    "    df_subprenum = pd.merge(df_subpre,df_num,on=[\"adsh\",\"tag\",\"ddate\"],how=\"inner\")\n",
    "# Add the year and quarter\n",
    "    df_subprenum[\"FYQ\"] = qrt_folders[folder_counter]\n",
    "    \n",
    "# Append all in a single file\n",
    "    df_KQF = df_KQF.append(df_subprenum,ignore_index=True)\n",
    "                \n",
    "    print((\"In File \"+qrt_folders[folder_counter]))\n",
    "    print((\"Entries in SUB \"+np.str(len(df_sub_fs))))\n",
    "    print((\"Entries in PRE \"+np.str(len(df_pre_3FS))))\n",
    "    print((\"Entries merged in SUB-PRE \"+np.str(len(df_subpre))))\n",
    "    print((\"Entries merged in NUM \"+np.str(len(df_num))))\n",
    "    print((\"Entries merged in SUB-PRE-NUM \"+np.str(len(df_subprenum))))\n",
    "    print((\"Combined Entries \"+np.str(len(df_KQF))))\n",
    "                         \n",
    "    folder_counter = folder_counter + 1\n",
    "    "
   ]
  },
  {
   "cell_type": "code",
   "execution_count": null,
   "metadata": {
    "scrolled": true
   },
   "outputs": [],
   "source": [
    "print(len(df_KQF))\n",
    "df_10K = df_KQF[df_KQF[\"form\"] == var_10K]\n",
    "print(len(df_10K))\n",
    "df_10Q = df_KQF[df_KQF[\"form\"] == var_10Q]\n",
    "print(len(df_10Q))\n",
    "df_20F = df_KQF[df_KQF[\"form\"] == var_20F]\n",
    "print(len(df_20F))\n",
    "df_40F = df_KQF[df_KQF[\"form\"] == var_40F]\n",
    "print(len(df_40F))\n",
    "df_KQF = pd.DataFrame()"
   ]
  },
  {
   "cell_type": "code",
   "execution_count": null,
   "metadata": {},
   "outputs": [],
   "source": [
    "df_20F.to_csv((folder_destin+var_20F+\"_AllEntries.csv.zip\"),compression=\"zip\")\n",
    "df_10K.to_csv((folder_destin+var_10K+\"_AllEntries.csv.zip\"),compression=\"zip\")\n",
    "df_40F.to_csv((folder_destin+var_40F+\"_AllEntries.csv.zip\"),compression=\"zip\")"
   ]
  },
  {
   "cell_type": "code",
   "execution_count": null,
   "metadata": {},
   "outputs": [],
   "source": [
    "df_10K = pd.DataFrame()\n",
    "df_40F = pd.DataFrame()\n",
    "df_20F = pd.DataFrame()"
   ]
  },
  {
   "cell_type": "code",
   "execution_count": null,
   "metadata": {},
   "outputs": [],
   "source": []
  },
  {
   "cell_type": "code",
   "execution_count": null,
   "metadata": {},
   "outputs": [],
   "source": [
    "\n",
    "print(len(df_10Q))\n",
    "ls_2016_2020 = [\"2016\",\"2017\",\"2018\",\"2019\",\"2020\"]\n",
    "ls_2009_2015 = [\"2009\",\"2010\",\"2011\",\"2012\",\"2013\",\"2014\",\"2015\"]\n",
    "df_10Q_2016_2020 =  df_10Q[df_10Q[\"fy\"].isin(ls_2016_2020)]\n",
    "print(len(df_10Q_2016_2020))\n",
    "df_10Q_2009_2015 = df_10Q[df_10Q[\"fy\"].isin(ls_2009_2015)]\n",
    "print(len(df_10Q_2009_2015))\n",
    "df_10Q = pd.DataFrame()\n",
    "df_10Q_2016_2020.to_csv((folder_destin+var_10Q+\"_2016_2020_AllEntries.csv.zip\"),compression=\"zip\")\n",
    "df_10Q_2009_2015.to_csv((folder_destin+var_10Q+\"_2009_2015_AllEntries.csv.zip\"),compression=\"zip\")"
   ]
  },
  {
   "cell_type": "code",
   "execution_count": null,
   "metadata": {},
   "outputs": [],
   "source": []
  },
  {
   "cell_type": "code",
   "execution_count": null,
   "metadata": {},
   "outputs": [],
   "source": []
  }
 ],
 "metadata": {
  "kernelspec": {
   "display_name": "Python 3",
   "language": "python",
   "name": "python3"
  },
  "language_info": {
   "codemirror_mode": {
    "name": "ipython",
    "version": 3
   },
   "file_extension": ".py",
   "mimetype": "text/x-python",
   "name": "python",
   "nbconvert_exporter": "python",
   "pygments_lexer": "ipython3",
   "version": "3.7.1"
  }
 },
 "nbformat": 4,
 "nbformat_minor": 4
}
